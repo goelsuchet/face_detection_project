{
 "cells": [
  {
   "cell_type": "code",
   "execution_count": 30,
   "id": "4d8912a1-9422-4f61-8f58-1725f28e467d",
   "metadata": {},
   "outputs": [],
   "source": [
    "import cv2\n",
    "import numpy as np\n",
    "import os\n",
    "from PIL import Image"
   ]
  },
  {
   "cell_type": "code",
   "execution_count": 31,
   "id": "439afa1e-e1b3-4b7f-a5d0-1292ef6ba57a",
   "metadata": {},
   "outputs": [],
   "source": [
    "def create_user(f_id, name):\n",
    "    web=cv2.VideoCapture(0)\n",
    "    web.set(3,640)\n",
    "    web.set(4,480)\n",
    "\n",
    "    faces= cv2.CascadeClassifier(cv2.data.haarcascades+'haarcascade_frontalface_default.xml')\n",
    "\n",
    "    f_dir= 'dataset'\n",
    "    f_name= name\n",
    "    path=os.path.join(f_dir, f_name)\n",
    "    if not os.path.isdir(path):\n",
    "        os.makedirs(path)\n",
    "    counter=0\n",
    "    while(True):\n",
    "        ret,img=web.read()\n",
    "        img=cv2.flip(img,1)\n",
    "        gray= cv2.cvtColor(img, cv2.COLOR_BGR2GRAY)\n",
    "        #facedetection and output is in the form [x,y,w,h]=x,y of top left corner of face rectangle. Identifies if any faces are present and their coordinate rectangles.\n",
    "        multi_face=faces.detectMultiScale(gray, 1.3, 5)\n",
    "        for x,y,w,h in multi_face:\n",
    "            cv2.rectangle(img, (x,y), (x+w, y+h), (255,0,0), 2)\n",
    "            counter++1\n",
    "            #storage also starts of the faces syntax= imwrite(path, image)\n",
    "            cv2.imwrite(\"{}/{}.{}.{}{}\".format(path, name, f_id, counter, \".jpg\"), gray[y:y+h, x:x+w])\n",
    "            cv2.imshow(\"Image\", img)\n",
    "        k=cv2.waitKey(30) & 0xff\n",
    "        if k==27:\n",
    "            break\n",
    "        elif counter>=40:\n",
    "            break\n",
    "    web.release()\n",
    "    cv2.destroyAllWindows() "
   ]
  },
  {
   "cell_type": "code",
   "execution_count": 11,
   "id": "628d29d7-2042-4932-ac27-ddfaee2e1483",
   "metadata": {},
   "outputs": [],
   "source": [
    "create_user(1,\"suchet\")"
   ]
  },
  {
   "cell_type": "code",
   "execution_count": 32,
   "id": "80d0cfa1-7178-4416-858e-ca894c8da2b7",
   "metadata": {},
   "outputs": [],
   "source": [
    "def train():\n",
    "    database= 'dataset'\n",
    "    img_dir=[x[0] for x in os.walk(database)][1::]\n",
    "    recognizer= cv2.face.LBPHFaceRecognizer_create()\n",
    "    detector= cv2.CascadeClassifier(cv2.data.haarcascades+'haarcascade_frontalface_default.xml')\n",
    "    faceSamples=[]\n",
    "    ids=[]\n",
    "    for path in img_dir:\n",
    "        path = str(path)\n",
    "        imagepaths = [os.path.join(path, f) for f in os.listdir(path) if f.endswith(('.jpg', 'png', '.jpeg'))]\n",
    "\n",
    "        for imagepath in imagepaths:\n",
    "            PIL_img= Image.open(imagepath).convert('L')\n",
    "            img_numpy= np.array(PIL_img, 'uint8')\n",
    "\n",
    "            id=int(os.path.split(imagepath)[-1].split('.')[1])\n",
    "            faces=detector.detectMultiScale(img_numpy)\n",
    "\n",
    "            for (x,y,w,h) in faces:\n",
    "                faceSamples.append(img_numpy[y:y+h, x:x+w])\n",
    "                ids.append(id)\n",
    "    recognizer.train(faceSamples, np.array(ids))\n",
    "    recognizer.write('trainer.yml')\n",
    "    print('\\n[INFO] {0} faces trained.Existing Program'.format(len(np.unique(ids))))\n",
    "    return len(np.unique(ids))"
   ]
  },
  {
   "cell_type": "code",
   "execution_count": 15,
   "id": "27a95a9d-9fa7-4c2c-886a-8360d74b918f",
   "metadata": {},
   "outputs": [
    {
     "name": "stdout",
     "output_type": "stream",
     "text": [
      "\n",
      "[INFO] 1 faces trained.Existing Program\n"
     ]
    },
    {
     "data": {
      "text/plain": [
       "1"
      ]
     },
     "execution_count": 15,
     "metadata": {},
     "output_type": "execute_result"
    }
   ],
   "source": [
    "train()"
   ]
  },
  {
   "cell_type": "code",
   "execution_count": 33,
   "id": "5d0af5d6-941e-4a90-be97-9d50156a5f1f",
   "metadata": {},
   "outputs": [],
   "source": [
    "def recognize(names):\n",
    "    recognizer= cv2.face.LBPHFaceRecognizer_create()\n",
    "    recognizer.read('trainer.yml')\n",
    "    CascadePath= \"haarcascade_frontalface_default.xml\"\n",
    "    faceCascade= cv2.CascadeClassifier(cv2.data.haarcascades+ CascadePath)\n",
    "    font=cv2.FONT_HERSHEY_SIMPLEX\n",
    "    id=0\n",
    "    name=\"\"\n",
    "    face_count=0\n",
    "    cam= cv2.VideoCapture(0)\n",
    "    cam.set(3,640)\n",
    "    cam.set(4,480)\n",
    "\n",
    "    minW=0.1*cam.get(3)\n",
    "    minH=0.1*cam.get(4)\n",
    "    while True:\n",
    "        ret, img= cam.read()\n",
    "        img=cv2.flip(img,1)\n",
    "        gray=cv2.cvtColor(img, cv2.COLOR_BGR2GRAY)\n",
    "        faces=faceCascade.detectMultiScale(\n",
    "            gray,\n",
    "            scaleFactor=1.2,\n",
    "            minNeighbors=5,\n",
    "            minSize=(int(minW), int(minH)),\n",
    "            \n",
    "        )\n",
    "        for x,y,w,h in faces:\n",
    "            cv2.rectangle(img, (x,y), (x+w,y+h), (0,255,0), 2)\n",
    "            id, confidence= recognizer.predict(gray[y:y+h, x:x+w])\n",
    "            if(confidence<70):\n",
    "                id=names[id]\n",
    "            else:\n",
    "                id=\"unknown\"\n",
    "                roll = None\n",
    "                confidence= \"{0}%\".format(round(100-confidence))\n",
    "                text= \"I can't recognize You\"\n",
    "                #for attendence the code starts below\n",
    "\n",
    "            if name==id:\n",
    "                face_count+=1\n",
    "                if(face_count>21):\n",
    "                    fountcount=-100\n",
    "            else:\n",
    "                name=id\n",
    "                face_count=0\n",
    "                      \n",
    "            cv2.putText(img, str(id), (x+5,y-5), font, 1, (255,255,255), 2)\n",
    "            cv2.putText(img, str(confidence), (x+5,y+h-5), font, 1, (255,255,0), 1)\n",
    "            cv2.imshow(\"Image\", img)\n",
    "        k=cv2.waitKey(30) & 0xff\n",
    "        if k==27:\n",
    "            break\n",
    "    cam.release()\n",
    "    cv2.destroyAllWindows()"
   ]
  },
  {
   "cell_type": "code",
   "execution_count": 34,
   "id": "cbf5d25f-377b-4cd6-87b1-ce4920cf9b40",
   "metadata": {},
   "outputs": [],
   "source": [
    "def run():\n",
    "    giveinput={1:\"Suchet\"}\n",
    "    nameinput=input(\"Enter Your Name\")\n",
    "    id_no=int(input(\"Serial no\"))\n",
    "    giveinput[id_no]=nameinput\n",
    "    create_user(id_no, nameinput)\n",
    "    train()\n",
    "    recognize(giveinput)\n",
    "    for key in giveinput:\n",
    "        print(key, giveinput[key])"
   ]
  },
  {
   "cell_type": "code",
   "execution_count": 40,
   "id": "7351d52e-3562-41ab-b5db-aea264fc5c5e",
   "metadata": {},
   "outputs": [
    {
     "name": "stdin",
     "output_type": "stream",
     "text": [
      "Enter Your Name sakshi\n",
      "Serial no 2\n"
     ]
    },
    {
     "name": "stdout",
     "output_type": "stream",
     "text": [
      "\n",
      "[INFO] 2 faces trained.Existing Program\n",
      "1 Suchet\n",
      "2 sakshi\n"
     ]
    }
   ],
   "source": [
    "run()"
   ]
  },
  {
   "cell_type": "code",
   "execution_count": 41,
   "id": "196dbf34-9b22-4f22-bfed-5b0b121b4a28",
   "metadata": {},
   "outputs": [
    {
     "name": "stdin",
     "output_type": "stream",
     "text": [
      "Enter Your Name sakshi\n",
      "Serial no 2\n"
     ]
    },
    {
     "name": "stdout",
     "output_type": "stream",
     "text": [
      "\n",
      "[INFO] 2 faces trained.Existing Program\n",
      "1 Suchet\n",
      "2 sakshi\n"
     ]
    }
   ],
   "source": [
    "run()"
   ]
  },
  {
   "cell_type": "code",
   "execution_count": null,
   "id": "d0541872-6cd8-4467-aaab-817271a905ff",
   "metadata": {},
   "outputs": [],
   "source": []
  },
  {
   "cell_type": "code",
   "execution_count": null,
   "id": "26905fc6-e20d-4ae7-9d1a-0d91a1c91c19",
   "metadata": {},
   "outputs": [],
   "source": []
  }
 ],
 "metadata": {
  "kernelspec": {
   "display_name": "Python 3 (ipykernel)",
   "language": "python",
   "name": "python3"
  },
  "language_info": {
   "codemirror_mode": {
    "name": "ipython",
    "version": 3
   },
   "file_extension": ".py",
   "mimetype": "text/x-python",
   "name": "python",
   "nbconvert_exporter": "python",
   "pygments_lexer": "ipython3",
   "version": "3.13.1"
  }
 },
 "nbformat": 4,
 "nbformat_minor": 5
}
